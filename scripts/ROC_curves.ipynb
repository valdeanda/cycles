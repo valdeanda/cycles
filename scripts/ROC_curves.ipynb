{
 "cells": [
  {
   "cell_type": "markdown",
   "metadata": {},
   "source": [
    "# Import libraries"
   ]
  },
  {
   "cell_type": "code",
   "execution_count": 1,
   "metadata": {
    "collapsed": true
   },
   "outputs": [],
   "source": [
    "from itertools import cycle\n",
    "from sklearn import svm, datasets\n",
    "from sklearn.metrics import roc_curve, auc\n",
    "from sklearn.model_selection import train_test_split\n",
    "from sklearn.preprocessing import label_binarize\n",
    "from sklearn.multiclass import OneVsRestClassifier\n",
    "from scipy import interp\n",
    "from sklearn import metrics\n",
    "from subprocess import call\n",
    "import sys\n",
    "import random\n",
    "import re\n",
    "import time\n",
    "%matplotlib inline\n",
    "import numpy as np\n",
    "import matplotlib.pylab as plt\n",
    "import pandas as pd\n",
    "import seaborn as sns\n",
    "from scipy import stats\n",
    "import numpy as np\n",
    "import matplotlib"
   ]
  },
  {
   "cell_type": "code",
   "execution_count": 2,
   "metadata": {},
   "outputs": [
    {
     "data": {
      "text/html": [
       "<div>\n",
       "<style>\n",
       "    .dataframe thead tr:only-child th {\n",
       "        text-align: right;\n",
       "    }\n",
       "\n",
       "    .dataframe thead th {\n",
       "        text-align: left;\n",
       "    }\n",
       "\n",
       "    .dataframe tbody tr th {\n",
       "        vertical-align: top;\n",
       "    }\n",
       "</style>\n",
       "<table border=\"1\" class=\"dataframe\">\n",
       "  <thead>\n",
       "    <tr style=\"text-align: right;\">\n",
       "      <th></th>\n",
       "      <th>sulfur</th>\n",
       "      <th>carbon</th>\n",
       "      <th>oxygen</th>\n",
       "      <th>iron</th>\n",
       "      <th>nitrogen</th>\n",
       "    </tr>\n",
       "  </thead>\n",
       "  <tbody>\n",
       "    <tr>\n",
       "      <th>GCF_000195295.1_ASM19529v1_protein.faa.named.faa</th>\n",
       "      <td>10.647</td>\n",
       "      <td>14.514</td>\n",
       "      <td>3.171</td>\n",
       "      <td>4.033</td>\n",
       "      <td>10.980</td>\n",
       "    </tr>\n",
       "    <tr>\n",
       "      <th>GCF_000020945.1_ASM2094v1_protein.faa.named.faa</th>\n",
       "      <td>4.467</td>\n",
       "      <td>3.542</td>\n",
       "      <td>0.403</td>\n",
       "      <td>0.472</td>\n",
       "      <td>5.365</td>\n",
       "    </tr>\n",
       "    <tr>\n",
       "      <th>GCF_000148685.1_ASM14868v1_protein.faa.named.faa</th>\n",
       "      <td>0.034</td>\n",
       "      <td>14.162</td>\n",
       "      <td>3.434</td>\n",
       "      <td>5.274</td>\n",
       "      <td>16.919</td>\n",
       "    </tr>\n",
       "    <tr>\n",
       "      <th>GCF_000828475.1_ASM82847v1_protein.faa.named.faa</th>\n",
       "      <td>1.590</td>\n",
       "      <td>14.435</td>\n",
       "      <td>4.014</td>\n",
       "      <td>6.398</td>\n",
       "      <td>15.618</td>\n",
       "    </tr>\n",
       "    <tr>\n",
       "      <th>GCF_000758545.1_ASM75854v1_protein.faa.named.faa</th>\n",
       "      <td>1.655</td>\n",
       "      <td>2.522</td>\n",
       "      <td>3.998</td>\n",
       "      <td>3.539</td>\n",
       "      <td>9.986</td>\n",
       "    </tr>\n",
       "  </tbody>\n",
       "</table>\n",
       "</div>"
      ],
      "text/plain": [
       "                                                  sulfur  carbon  oxygen  \\\n",
       "GCF_000195295.1_ASM19529v1_protein.faa.named.faa  10.647  14.514   3.171   \n",
       "GCF_000020945.1_ASM2094v1_protein.faa.named.faa    4.467   3.542   0.403   \n",
       "GCF_000148685.1_ASM14868v1_protein.faa.named.faa   0.034  14.162   3.434   \n",
       "GCF_000828475.1_ASM82847v1_protein.faa.named.faa   1.590  14.435   4.014   \n",
       "GCF_000758545.1_ASM75854v1_protein.faa.named.faa   1.655   2.522   3.998   \n",
       "\n",
       "                                                   iron  nitrogen  \n",
       "GCF_000195295.1_ASM19529v1_protein.faa.named.faa  4.033    10.980  \n",
       "GCF_000020945.1_ASM2094v1_protein.faa.named.faa   0.472     5.365  \n",
       "GCF_000148685.1_ASM14868v1_protein.faa.named.faa  5.274    16.919  \n",
       "GCF_000828475.1_ASM82847v1_protein.faa.named.faa  6.398    15.618  \n",
       "GCF_000758545.1_ASM75854v1_protein.faa.named.faa  3.539     9.986  "
      ]
     },
     "execution_count": 2,
     "metadata": {},
     "output_type": "execute_result"
    }
   ],
   "source": [
    "mebs=pd.read_table(\"../data/Gen_Fasta.mebs.0.0001.tsv\", index_col=0)\n",
    "mebs.head()"
   ]
  },
  {
   "cell_type": "markdown",
   "metadata": {},
   "source": [
    "## Get the headers ids"
   ]
  },
  {
   "cell_type": "code",
   "execution_count": 3,
   "metadata": {},
   "outputs": [],
   "source": [
    "%%bash\n",
    "sed 's/_protein.faa.named.faa//g' ../data/Gen_Fasta.mebs.0.0001.tsv |  sed 's/^GCF............/&\\t/g'| cut -f 1,3,4,5,6,7 | sort    > ../data/Gen_Fasta.mebs.0.0001.parse.tsv \n"
   ]
  },
  {
   "cell_type": "code",
   "execution_count": 4,
   "metadata": {},
   "outputs": [
    {
     "data": {
      "text/html": [
       "<div>\n",
       "<style>\n",
       "    .dataframe thead tr:only-child th {\n",
       "        text-align: right;\n",
       "    }\n",
       "\n",
       "    .dataframe thead th {\n",
       "        text-align: left;\n",
       "    }\n",
       "\n",
       "    .dataframe tbody tr th {\n",
       "        vertical-align: top;\n",
       "    }\n",
       "</style>\n",
       "<table border=\"1\" class=\"dataframe\">\n",
       "  <thead>\n",
       "    <tr style=\"text-align: right;\">\n",
       "      <th></th>\n",
       "      <th>sulfur</th>\n",
       "      <th>carbon</th>\n",
       "      <th>oxygen</th>\n",
       "      <th>iron</th>\n",
       "      <th>nitrogen</th>\n",
       "    </tr>\n",
       "  </thead>\n",
       "  <tbody>\n",
       "    <tr>\n",
       "      <th>GCF_000005825.2</th>\n",
       "      <td>2.137</td>\n",
       "      <td>2.637</td>\n",
       "      <td>3.548</td>\n",
       "      <td>3.583</td>\n",
       "      <td>12.432</td>\n",
       "    </tr>\n",
       "    <tr>\n",
       "      <th>GCF_000005845.2</th>\n",
       "      <td>2.123</td>\n",
       "      <td>5.942</td>\n",
       "      <td>2.956</td>\n",
       "      <td>6.065</td>\n",
       "      <td>14.562</td>\n",
       "    </tr>\n",
       "    <tr>\n",
       "      <th>GCF_000006175.1</th>\n",
       "      <td>5.750</td>\n",
       "      <td>71.467</td>\n",
       "      <td>3.563</td>\n",
       "      <td>0.661</td>\n",
       "      <td>6.619</td>\n",
       "    </tr>\n",
       "    <tr>\n",
       "      <th>GCF_000006605.1</th>\n",
       "      <td>-3.081</td>\n",
       "      <td>0.839</td>\n",
       "      <td>3.723</td>\n",
       "      <td>2.287</td>\n",
       "      <td>8.250</td>\n",
       "    </tr>\n",
       "    <tr>\n",
       "      <th>GCF_000006625.1</th>\n",
       "      <td>-0.806</td>\n",
       "      <td>-0.886</td>\n",
       "      <td>0.010</td>\n",
       "      <td>-0.035</td>\n",
       "      <td>-0.171</td>\n",
       "    </tr>\n",
       "  </tbody>\n",
       "</table>\n",
       "</div>"
      ],
      "text/plain": [
       "                 sulfur  carbon  oxygen   iron  nitrogen\n",
       "GCF_000005825.2   2.137   2.637   3.548  3.583    12.432\n",
       "GCF_000005845.2   2.123   5.942   2.956  6.065    14.562\n",
       "GCF_000006175.1   5.750  71.467   3.563  0.661     6.619\n",
       "GCF_000006605.1  -3.081   0.839   3.723  2.287     8.250\n",
       "GCF_000006625.1  -0.806  -0.886   0.010 -0.035    -0.171"
      ]
     },
     "execution_count": 4,
     "metadata": {},
     "output_type": "execute_result"
    }
   ],
   "source": [
    "mebs_parsed=pd.read_table(\"../data/Gen_Fasta.mebs.0.0001.parse.tsv\", index_col=0) \n",
    "mebs_parsed.columns=['sulfur', 'carbon','oxygen','iron','nitrogen']\n",
    "mebs_parsed.head()"
   ]
  },
  {
   "cell_type": "markdown",
   "metadata": {},
   "source": [
    "## Reading input curated genomes "
   ]
  },
  {
   "cell_type": "code",
   "execution_count": 5,
   "metadata": {},
   "outputs": [
    {
     "data": {
      "text/html": [
       "<div>\n",
       "<style>\n",
       "    .dataframe thead tr:only-child th {\n",
       "        text-align: right;\n",
       "    }\n",
       "\n",
       "    .dataframe thead th {\n",
       "        text-align: left;\n",
       "    }\n",
       "\n",
       "    .dataframe tbody tr th {\n",
       "        vertical-align: top;\n",
       "    }\n",
       "</style>\n",
       "<table border=\"1\" class=\"dataframe\">\n",
       "  <thead>\n",
       "    <tr style=\"text-align: right;\">\n",
       "      <th></th>\n",
       "      <th>O</th>\n",
       "    </tr>\n",
       "  </thead>\n",
       "  <tbody>\n",
       "    <tr>\n",
       "      <th>GCF_000018105.1</th>\n",
       "      <td>Acaryochloris marina MBIC11017</td>\n",
       "    </tr>\n",
       "    <tr>\n",
       "      <th>GCF_000312705.1</th>\n",
       "      <td>Anabaena sp. 90</td>\n",
       "    </tr>\n",
       "    <tr>\n",
       "      <th>GCF_000317695.1</th>\n",
       "      <td>Anabaena cylindrica PCC 7122</td>\n",
       "    </tr>\n",
       "    <tr>\n",
       "      <th>GCF_001277295.1</th>\n",
       "      <td>Anabaena sp. wa102</td>\n",
       "    </tr>\n",
       "    <tr>\n",
       "      <th>GCF_000316575.1</th>\n",
       "      <td>Calothrix sp. PCC 7507</td>\n",
       "    </tr>\n",
       "  </tbody>\n",
       "</table>\n",
       "</div>"
      ],
      "text/plain": [
       "                                              O\n",
       "GCF_000018105.1  Acaryochloris marina MBIC11017\n",
       "GCF_000312705.1                 Anabaena sp. 90\n",
       "GCF_000317695.1    Anabaena cylindrica PCC 7122\n",
       "GCF_001277295.1              Anabaena sp. wa102\n",
       "GCF_000316575.1          Calothrix sp. PCC 7507"
      ]
     },
     "execution_count": 5,
     "metadata": {},
     "output_type": "execute_result"
    }
   ],
   "source": [
    "sulfur=pd.read_table(\"../data/sulfur.txt\", index_col=0, names='S')\n",
    "carbon=pd.read_table(\"../data/carbon.txt\", index_col=0,names='C')\n",
    "iron=pd.read_table(\"../data/iron.txt\", index_col=0,names='F')\n",
    "nitrogen=pd.read_table(\"../data/nitrogen.txt\", index_col=0, names='N')\n",
    "oxygen=pd.read_table(\"../data/oxygen.txt\", index_col=0,names='O')\n",
    "oxygen.head()"
   ]
  },
  {
   "cell_type": "markdown",
   "metadata": {},
   "source": [
    "## Set the names to values to perform following steps "
   ]
  },
  {
   "cell_type": "code",
   "execution_count": 6,
   "metadata": {},
   "outputs": [
    {
     "data": {
      "text/html": [
       "<div>\n",
       "<style>\n",
       "    .dataframe thead tr:only-child th {\n",
       "        text-align: right;\n",
       "    }\n",
       "\n",
       "    .dataframe thead th {\n",
       "        text-align: left;\n",
       "    }\n",
       "\n",
       "    .dataframe tbody tr th {\n",
       "        vertical-align: top;\n",
       "    }\n",
       "</style>\n",
       "<table border=\"1\" class=\"dataframe\">\n",
       "  <thead>\n",
       "    <tr style=\"text-align: right;\">\n",
       "      <th></th>\n",
       "      <th>O</th>\n",
       "      <th>O_ROC</th>\n",
       "    </tr>\n",
       "  </thead>\n",
       "  <tbody>\n",
       "    <tr>\n",
       "      <th>GCF_000018105.1</th>\n",
       "      <td>Acaryochloris marina MBIC11017</td>\n",
       "      <td>1</td>\n",
       "    </tr>\n",
       "    <tr>\n",
       "      <th>GCF_000312705.1</th>\n",
       "      <td>Anabaena sp. 90</td>\n",
       "      <td>1</td>\n",
       "    </tr>\n",
       "    <tr>\n",
       "      <th>GCF_000317695.1</th>\n",
       "      <td>Anabaena cylindrica PCC 7122</td>\n",
       "      <td>1</td>\n",
       "    </tr>\n",
       "    <tr>\n",
       "      <th>GCF_001277295.1</th>\n",
       "      <td>Anabaena sp. wa102</td>\n",
       "      <td>1</td>\n",
       "    </tr>\n",
       "    <tr>\n",
       "      <th>GCF_000316575.1</th>\n",
       "      <td>Calothrix sp. PCC 7507</td>\n",
       "      <td>1</td>\n",
       "    </tr>\n",
       "  </tbody>\n",
       "</table>\n",
       "</div>"
      ],
      "text/plain": [
       "                                              O  O_ROC\n",
       "GCF_000018105.1  Acaryochloris marina MBIC11017      1\n",
       "GCF_000312705.1                 Anabaena sp. 90      1\n",
       "GCF_000317695.1    Anabaena cylindrica PCC 7122      1\n",
       "GCF_001277295.1              Anabaena sp. wa102      1\n",
       "GCF_000316575.1          Calothrix sp. PCC 7507      1"
      ]
     },
     "execution_count": 6,
     "metadata": {},
     "output_type": "execute_result"
    }
   ],
   "source": [
    "oxygen['O_ROC'] = 1\n",
    "oxygen.head()"
   ]
  },
  {
   "cell_type": "code",
   "execution_count": 7,
   "metadata": {},
   "outputs": [
    {
     "data": {
      "text/html": [
       "<div>\n",
       "<style>\n",
       "    .dataframe thead tr:only-child th {\n",
       "        text-align: right;\n",
       "    }\n",
       "\n",
       "    .dataframe thead th {\n",
       "        text-align: left;\n",
       "    }\n",
       "\n",
       "    .dataframe tbody tr th {\n",
       "        vertical-align: top;\n",
       "    }\n",
       "</style>\n",
       "<table border=\"1\" class=\"dataframe\">\n",
       "  <thead>\n",
       "    <tr style=\"text-align: right;\">\n",
       "      <th></th>\n",
       "      <th>O_ROC</th>\n",
       "    </tr>\n",
       "  </thead>\n",
       "  <tbody>\n",
       "    <tr>\n",
       "      <th>GCF_000018105.1</th>\n",
       "      <td>1</td>\n",
       "    </tr>\n",
       "    <tr>\n",
       "      <th>GCF_000312705.1</th>\n",
       "      <td>1</td>\n",
       "    </tr>\n",
       "    <tr>\n",
       "      <th>GCF_000317695.1</th>\n",
       "      <td>1</td>\n",
       "    </tr>\n",
       "    <tr>\n",
       "      <th>GCF_001277295.1</th>\n",
       "      <td>1</td>\n",
       "    </tr>\n",
       "    <tr>\n",
       "      <th>GCF_000316575.1</th>\n",
       "      <td>1</td>\n",
       "    </tr>\n",
       "  </tbody>\n",
       "</table>\n",
       "</div>"
      ],
      "text/plain": [
       "                 O_ROC\n",
       "GCF_000018105.1      1\n",
       "GCF_000312705.1      1\n",
       "GCF_000317695.1      1\n",
       "GCF_001277295.1      1\n",
       "GCF_000316575.1      1"
      ]
     },
     "execution_count": 7,
     "metadata": {},
     "output_type": "execute_result"
    }
   ],
   "source": [
    "oxygen=oxygen[['O_ROC']]\n",
    "oxygen.head()"
   ]
  },
  {
   "cell_type": "code",
   "execution_count": 8,
   "metadata": {
    "collapsed": true
   },
   "outputs": [],
   "source": [
    "sulfur['S_ROC'] = 1\n",
    "carbon['C_ROC'] = 1\n",
    "nitrogen['N_ROC'] = 1\n",
    "iron['Fe_ROC'] = 1\n",
    "####################\n",
    "sulfur=sulfur[['S_ROC']]\n",
    "carbon=carbon[['C_ROC']]\n",
    "nitrogen=nitrogen[['N_ROC']]\n",
    "iron=iron[['Fe_ROC']]"
   ]
  },
  {
   "cell_type": "code",
   "execution_count": 51,
   "metadata": {},
   "outputs": [
    {
     "name": "stdout",
     "output_type": "stream",
     "text": [
      "sulfur: 7.4008 carbon: 17.3613 oxygen: 6.6332 nitrogen: 16.9669 iron: 8.0777\n"
     ]
    }
   ],
   "source": [
    "spercent=np.percentile(mebs_parsed.sulfur,95)\n",
    "cpercent=np.percentile(mebs_parsed.carbon,95)\n",
    "opercent=np.percentile(mebs_parsed.oxygen,95)\n",
    "npercent=np.percentile(mebs_parsed.nitrogen,95)\n",
    "feercent=np.percentile(mebs_parsed.iron,95)\n",
    "print(\"sulfur:\",spercent,\"carbon:\", cpercent, \"oxygen:\",opercent, \"nitrogen:\" ,npercent, \"iron:\",feercent)"
   ]
  },
  {
   "cell_type": "code",
   "execution_count": 70,
   "metadata": {},
   "outputs": [
    {
     "name": "stdout",
     "output_type": "stream",
     "text": [
      "max sulfur: 12.285 max carbon 79.143 max oxygen  8.798 max nitrogen 19.327 max iron 10.322\n"
     ]
    }
   ],
   "source": [
    "smax=mebs_parsed.sulfur.max()\n",
    "omax=mebs_parsed.oxygen.max()\n",
    "cmax=mebs_parsed.carbon.max()\n",
    "nmax=mebs_parsed.nitrogen.max()\n",
    "fmax=mebs_parsed.iron.max()\n",
    "print(\"max sulfur:\", smax, \"max carbon\", cmax, \"max oxygen \", omax, \"max nitrogen\", nmax, \"max iron\", fmax)\n"
   ]
  },
  {
   "cell_type": "markdown",
   "metadata": {},
   "source": [
    "## Creating the matrix to get the positive an negative instances of ROC curve "
   ]
  },
  {
   "cell_type": "markdown",
   "metadata": {},
   "source": [
    "Get the non redundant list of RefSeq  [genomes](https://github.com/eead-csic-compbio/metagenome_Pfam_score/blob/master/Advanced_mode/Gen/assembly_refseq.nr2016.txt)"
   ]
  },
  {
   "cell_type": "code",
   "execution_count": 50,
   "metadata": {},
   "outputs": [
    {
     "name": "stdout",
     "output_type": "stream",
     "text": [
      "GCF_000005825.2\tBacillus pseudofirmus OF4\n",
      "GCF_000005845.2\tEscherichia coli str. K-12 substr. MG1655\n",
      "GCF_000006175.1\tMethanococcus voltae A3\n",
      "GCF_000006605.1\tCorynebacterium jeikeium K411\n",
      "GCF_000006625.1\tUreaplasma parvum serovar 3 str. ATCC 700970\n",
      "GCF_000006645.1\tYersinia pestis KIM10+\n",
      "GCF_000006685.1\tChlamydia muridarum str. Nigg\n",
      "GCF_000006725.1\tXylella fastidiosa 9a5c\n",
      "GCF_000006745.1\tVibrio cholerae O1 biovar El Tor str. N16961\n",
      "GCF_000006765.1\tPseudomonas aeruginosa PAO1\n"
     ]
    }
   ],
   "source": [
    "%%bash \n",
    "less -S ../data/assembly_refseq.nr2016.txt | cut -f 1,8 | sort | uniq  > ../data/assembly_refseq.nr2016.ids.txt\n",
    "head ../data/assembly_refseq.nr2016.ids.txt"
   ]
  },
  {
   "cell_type": "code",
   "execution_count": 79,
   "metadata": {},
   "outputs": [
    {
     "name": "stdout",
     "output_type": "stream",
     "text": [
      "GCF_000005825.2 Bacillus pseudofirmus OF4 2.137 2.637 3.548 3.583 12.432\n",
      "GCF_000005845.2 Escherichia coli str. K-12 substr. MG1655 2.123 5.942 2.956 6.065 14.562\n",
      "GCF_000006175.1 Methanococcus voltae A3 5.750 71.467 3.563 0.661 6.619\n",
      "GCF_000006605.1 Corynebacterium jeikeium K411 -3.081 0.839 3.723 2.287 8.250\n",
      "GCF_000006625.1 Ureaplasma parvum serovar 3 str. ATCC 700970 -0.806 -0.886 0.010 -0.035 -0.171\n",
      "GCF_000006645.1 Yersinia pestis KIM10+ 0.212 4.556 2.846 5.018 14.766\n",
      "GCF_000006685.1 Chlamydia muridarum str. Nigg -0.335 -0.771 0.071 0.590 1.334\n",
      "GCF_000006725.1 Xylella fastidiosa 9a5c -0.594 3.680 4.131 4.487 12.667\n",
      "GCF_000006745.1 Vibrio cholerae O1 biovar El Tor str. N16961 0.378 3.296 2.743 8.058 11.555\n",
      "GCF_000006765.1 Pseudomonas aeruginosa PAO1 0.882 3.727 4.248 8.360 16.282\n"
     ]
    }
   ],
   "source": [
    "%%bash \n",
    "join ../data/assembly_refseq.nr2016.ids.txt ../data/Gen_Fasta.mebs.0.0001.parse.tsv > ../data/assembly_refseq_mebs.txt\n",
    "less -S ../data/assembly_refseq_mebs.txt | head"
   ]
  },
  {
   "cell_type": "code",
   "execution_count": 11,
   "metadata": {},
   "outputs": [
    {
     "data": {
      "text/html": [
       "<div>\n",
       "<style>\n",
       "    .dataframe thead tr:only-child th {\n",
       "        text-align: right;\n",
       "    }\n",
       "\n",
       "    .dataframe thead th {\n",
       "        text-align: left;\n",
       "    }\n",
       "\n",
       "    .dataframe tbody tr th {\n",
       "        vertical-align: top;\n",
       "    }\n",
       "</style>\n",
       "<table border=\"1\" class=\"dataframe\">\n",
       "  <thead>\n",
       "    <tr style=\"text-align: right;\">\n",
       "      <th></th>\n",
       "      <th>i</th>\n",
       "    </tr>\n",
       "  </thead>\n",
       "  <tbody>\n",
       "    <tr>\n",
       "      <th>GCF_000005825.2</th>\n",
       "      <td>Bacillus pseudofirmus OF4</td>\n",
       "    </tr>\n",
       "    <tr>\n",
       "      <th>GCF_000005845.2</th>\n",
       "      <td>Escherichia coli str. K-12 substr. MG1655</td>\n",
       "    </tr>\n",
       "    <tr>\n",
       "      <th>GCF_000006175.1</th>\n",
       "      <td>Methanococcus voltae A3</td>\n",
       "    </tr>\n",
       "    <tr>\n",
       "      <th>GCF_000006605.1</th>\n",
       "      <td>Corynebacterium jeikeium K411</td>\n",
       "    </tr>\n",
       "    <tr>\n",
       "      <th>GCF_000006625.1</th>\n",
       "      <td>Ureaplasma parvum serovar 3 str. ATCC 700970</td>\n",
       "    </tr>\n",
       "  </tbody>\n",
       "</table>\n",
       "</div>"
      ],
      "text/plain": [
       "                                                            i\n",
       "GCF_000005825.2                     Bacillus pseudofirmus OF4\n",
       "GCF_000005845.2     Escherichia coli str. K-12 substr. MG1655\n",
       "GCF_000006175.1                       Methanococcus voltae A3\n",
       "GCF_000006605.1                 Corynebacterium jeikeium K411\n",
       "GCF_000006625.1  Ureaplasma parvum serovar 3 str. ATCC 700970"
      ]
     },
     "execution_count": 11,
     "metadata": {},
     "output_type": "execute_result"
    }
   ],
   "source": [
    "#Read an concatenate files \n",
    "Genids=pd.read_table(\"../data/assembly_refseq.nr2016.ids.txt\",index_col=0, names='i')\n",
    "Genids.head()"
   ]
  },
  {
   "cell_type": "markdown",
   "metadata": {},
   "source": [
    "## Join dataframes to create positive and negative instances "
   ]
  },
  {
   "cell_type": "code",
   "execution_count": 12,
   "metadata": {
    "collapsed": true
   },
   "outputs": [],
   "source": [
    "mebs.S=mebs_parsed.join(sulfur)\n",
    "mebs.SC=mebs.S.join(carbon)\n",
    "mebs.SCN=mebs.SC.join(nitrogen)\n",
    "mebs.SCNO=mebs.SCN.join(oxygen)\n",
    "mebs.SCNOFe=mebs.SCNO.join(iron)\n",
    "mebs.SCNOFe=mebs.SCNOFe.fillna(0)\n",
    "mebs.SCNOFe.index.names = ['ID']"
   ]
  },
  {
   "cell_type": "markdown",
   "metadata": {},
   "source": [
    "## Create arrays containing the values of positive instance s\n"
   ]
  },
  {
   "cell_type": "code",
   "execution_count": 13,
   "metadata": {
    "collapsed": true
   },
   "outputs": [],
   "source": [
    "#Nitrogen \n",
    "mebs_n =mebs.SCNOFe.as_matrix(columns=['nitrogen'])\n",
    "instances_n=mebs.SCNOFe.as_matrix(columns=['N_ROC'])\n",
    "#Metane \n",
    "mebs_m =mebs.SCNOFe.as_matrix(columns=['carbon'])\n",
    "instances_m=mebs.SCNOFe.as_matrix(columns=['C_ROC'])\n",
    "#Oxigen \n",
    "mebs_o =mebs.SCNOFe.as_matrix(columns=['oxygen'])\n",
    "instances_o=mebs.SCNOFe.as_matrix(columns=['O_ROC'])\n",
    "\n",
    "#Sulfur \n",
    "mebs_s =mebs.SCNOFe.as_matrix(columns=['sulfur'])\n",
    "instances_s=mebs.SCNOFe.as_matrix(columns=['S_ROC'])\n",
    "#Iron \n",
    "mebs_fe =mebs.SCNOFe.as_matrix(columns=['iron'])\n",
    "instances_fe=mebs.SCNOFe.as_matrix(columns=['Fe_ROC'])\n"
   ]
  },
  {
   "cell_type": "markdown",
   "metadata": {},
   "source": [
    "## False positive  and True positive rates \n"
   ]
  },
  {
   "cell_type": "code",
   "execution_count": 15,
   "metadata": {},
   "outputs": [],
   "source": [
    "#Nitrogen\n",
    "FPR_N, TPR_N, thresholds_N = roc_curve(instances_n,mebs_n, drop_intermediate=False)\n",
    "roc_N = auc(FPR_N, TPR_N)\n",
    "#Metane\n",
    "FPR_M, TPR_M, thresholds_M = roc_curve(instances_m,mebs_m, drop_intermediate=False)\n",
    "roc_M = auc(FPR_M, TPR_M)\n",
    "\n",
    "#Oxygen \n",
    "FPR_O, TPR_O, thresholds_O = roc_curve(instances_o,mebs_o, drop_intermediate=False)\n",
    "roc_O = auc(FPR_O, TPR_O)\n",
    "\n",
    "#Sulfur \n",
    "FPR_S, TPR_S, thresholds_S = roc_curve(instances_s,mebs_s, drop_intermediate=False)\n",
    "roc_S = auc(FPR_S, TPR_S)\n",
    "#Iron\n",
    "FPR_Fe, TPR_Fe, thresholds_Fe = roc_curve(instances_fe,mebs_fe, drop_intermediate=False)\n",
    "roc_Fe = auc(FPR_Fe, TPR_Fe)"
   ]
  },
  {
   "cell_type": "markdown",
   "metadata": {
    "collapsed": true
   },
   "source": [
    "##  ROC Plots"
   ]
  },
  {
   "cell_type": "markdown",
   "metadata": {},
   "source": [
    "# Nitrogen "
   ]
  },
  {
   "cell_type": "code",
   "execution_count": 71,
   "metadata": {},
   "outputs": [
    {
     "data": {
      "image/png": "[encoded data removed]",
      "text/plain": [
       "<matplotlib.figure.Figure at 0x7f19ce792978>"
      ]
     },
     "metadata": {},
     "output_type": "display_data"
    }
   ],
   "source": [
    "plt.figure(figsize=(6,4))\n",
    "sns.set_style(\"darkgrid\")\n",
    "plt.title('ROC curve Nitrogen',weight='bold',size='large')\n",
    "plt.plot(FPR_N, TPR_N, 'b',label='AUC = %0.3f'% roc_N)\n",
    "plt.legend(loc='lower right')\n",
    "plt.plot([0,1],[0,1],'r--')\n",
    "plt.xlim([-0.1,1.2])\n",
    "plt.ylim([-0.1,1.2])\n",
    "plt.ylabel('True Positive Rate (TPR)', size='medium')\n",
    "plt.xlabel('False Positive Rate (FPR)', size='medium')\n",
    "plt.savefig(\"../figures/ROC_N.png\", dpi = 400 )"
   ]
  },
  {
   "cell_type": "markdown",
   "metadata": {},
   "source": [
    "# Oxygen "
   ]
  },
  {
   "cell_type": "code",
   "execution_count": 72,
   "metadata": {},
   "outputs": [
    {
     "data": {
      "text/plain": [
       "Text(0.5,0,'False Positive Rate (FPR)')"
      ]
     },
     "execution_count": 72,
     "metadata": {},
     "output_type": "execute_result"
    },
    {
     "data": {
      "image/png": "[encoded data removed]",
      "text/plain": [
       "<matplotlib.figure.Figure at 0x7f19ce7907f0>"
      ]
     },
     "metadata": {},
     "output_type": "display_data"
    }
   ],
   "source": [
    "plt.figure(figsize=(6,4))\n",
    "sns.set_style(\"darkgrid\")\n",
    "plt.title('ROC curve Oxygen',weight='bold',size='large')\n",
    "plt.plot(FPR_O, TPR_O, 'b',label='AUC = %0.3f'% roc_O)\n",
    "plt.legend(loc='lower right')\n",
    "plt.plot([0,1],[0,1],'r--')\n",
    "plt.xlim([-0.1,1.2])\n",
    "plt.ylim([-0.1,1.2])\n",
    "plt.ylabel('True Positive Rate (TPR)', size='medium')\n",
    "plt.xlabel('False Positive Rate (FPR)', size='medium')\n",
    "#plt.savefig(\"ROC_O.png\", dpi = 400 )"
   ]
  },
  {
   "cell_type": "markdown",
   "metadata": {},
   "source": [
    "# Methane "
   ]
  },
  {
   "cell_type": "code",
   "execution_count": 73,
   "metadata": {},
   "outputs": [
    {
     "data": {
      "image/png": "[encoded data removed]",
      "text/plain": [
       "<matplotlib.figure.Figure at 0x7f19ce75b2e8>"
      ]
     },
     "metadata": {},
     "output_type": "display_data"
    }
   ],
   "source": [
    "plt.figure(figsize=(6,4))\n",
    "sns.set_style(\"darkgrid\")\n",
    "plt.title('ROC curve Methane',weight='bold',size='large')\n",
    "plt.plot(FPR_M, TPR_M, 'b',label='AUC = %0.3f'% roc_M)\n",
    "plt.legend(loc='lower right')\n",
    "plt.plot([0,1],[0,1],'r--')\n",
    "plt.xlim([-0.1,1.2])\n",
    "plt.ylim([-0.1,1.2])\n",
    "plt.ylabel('True Positive Rate (TPR)', size='medium')\n",
    "plt.xlabel('False Positive Rate (FPR)', size='medium')\n",
    "plt.savefig(\"../figures/ROC_M.png\", dpi = 400 )"
   ]
  },
  {
   "cell_type": "code",
   "execution_count": 74,
   "metadata": {},
   "outputs": [
    {
     "data": {
      "image/png": "[encoded data removed]",
      "text/plain": [
       "<matplotlib.figure.Figure at 0x7f19ce799978>"
      ]
     },
     "metadata": {},
     "output_type": "display_data"
    }
   ],
   "source": [
    "plt.figure(figsize=(6,4))\n",
    "sns.set_style(\"darkgrid\")\n",
    "plt.title('ROC curve Sulfur',weight='bold',size='large')\n",
    "plt.plot(FPR_S, TPR_S, 'b',label='AUC = %0.3f'% roc_S)\n",
    "plt.legend(loc='lower right')\n",
    "plt.plot([0,1],[0,1],'r--')\n",
    "plt.xlim([-0.1,1.2])\n",
    "plt.ylim([-0.1,1.2])\n",
    "plt.ylabel('True Positive Rate (TPR)', size='medium')\n",
    "plt.xlabel('False Positive Rate (FPR)', size='medium')\n",
    "plt.savefig(\"../figures/ROC_S.png\", dpi = 400 )"
   ]
  },
  {
   "cell_type": "markdown",
   "metadata": {},
   "source": [
    "# Iron "
   ]
  },
  {
   "cell_type": "code",
   "execution_count": 75,
   "metadata": {},
   "outputs": [
    {
     "data": {
      "image/png": "[encoded data removed]",
      "text/plain": [
       "<matplotlib.figure.Figure at 0x7f19cf3ff358>"
      ]
     },
     "metadata": {},
     "output_type": "display_data"
    }
   ],
   "source": [
    "plt.figure(figsize=(6,4))\n",
    "sns.set_style(\"darkgrid\")\n",
    "plt.title('ROC curve Iron',weight='bold',size='large')\n",
    "plt.plot(FPR_Fe, TPR_Fe, 'b',label='AUC = %0.3f'% roc_Fe)\n",
    "plt.legend(loc='lower right')\n",
    "plt.plot([0,1],[0,1],'r--')\n",
    "plt.xlim([-0.1,1.2])\n",
    "plt.ylim([-0.1,1.2])\n",
    "plt.ylabel('True Positive Rate (TPR)', size='medium')\n",
    "plt.xlabel('False Positive Rate (FPR)', size='medium')\n",
    "plt.savefig(\"../figures/ROC_Fe.png\", dpi = 400 )"
   ]
  },
  {
   "cell_type": "markdown",
   "metadata": {},
   "source": [
    "# Get FDRs"
   ]
  },
  {
   "cell_type": "code",
   "execution_count": 124,
   "metadata": {},
   "outputs": [],
   "source": [
    "rate=[.0001]\n"
   ]
  },
  {
   "cell_type": "code",
   "execution_count": 125,
   "metadata": {},
   "outputs": [
    {
     "name": "stdout",
     "output_type": "stream",
     "text": [
      "FDR: 0.0\n",
      "Score: 10.322\n"
     ]
    }
   ],
   "source": [
    "value=(len([x for x in list (FPR_Fe) if x<rate]))\n",
    "fdr=list(FPR_Fe)[value -1]\n",
    "score=list(thresholds_Fe)[value-1]\n",
    "\n",
    "print(\"FDR:\", fdr)\n",
    "print(\"Score:\",score)"
   ]
  },
  {
   "cell_type": "markdown",
   "metadata": {},
   "source": [
    "# Boxplot true positives "
   ]
  },
  {
   "cell_type": "code",
   "execution_count": 127,
   "metadata": {
    "collapsed": true
   },
   "outputs": [],
   "source": [
    "##curated  instances...*** todo *** "
   ]
  },
  {
   "cell_type": "code",
   "execution_count": 126,
   "metadata": {
    "collapsed": true
   },
   "outputs": [],
   "source": [
    "def median_sort(df):\n",
    "    \"\"\"Sort the columns acording to the median\"\"\"\n",
    "    median_sorted = df.median().argsort()\n",
    "    df_sorted = df.T.ix[median_sorted].T\n",
    "    return df_sorted"
   ]
  },
  {
   "cell_type": "code",
   "execution_count": 134,
   "metadata": {},
   "outputs": [
    {
     "data": {
      "text/html": [
       "<div>\n",
       "<style>\n",
       "    .dataframe thead tr:only-child th {\n",
       "        text-align: right;\n",
       "    }\n",
       "\n",
       "    .dataframe thead th {\n",
       "        text-align: left;\n",
       "    }\n",
       "\n",
       "    .dataframe tbody tr th {\n",
       "        vertical-align: top;\n",
       "    }\n",
       "</style>\n",
       "<table border=\"1\" class=\"dataframe\">\n",
       "  <thead>\n",
       "    <tr style=\"text-align: right;\">\n",
       "      <th></th>\n",
       "      <th>nitrogen</th>\n",
       "      <th>N_ROC</th>\n",
       "    </tr>\n",
       "    <tr>\n",
       "      <th>ID</th>\n",
       "      <th></th>\n",
       "      <th></th>\n",
       "    </tr>\n",
       "  </thead>\n",
       "  <tbody>\n",
       "    <tr>\n",
       "      <th>GCF_000005825.2</th>\n",
       "      <td>12.432</td>\n",
       "      <td>0.0</td>\n",
       "    </tr>\n",
       "    <tr>\n",
       "      <th>GCF_000005845.2</th>\n",
       "      <td>14.562</td>\n",
       "      <td>0.0</td>\n",
       "    </tr>\n",
       "    <tr>\n",
       "      <th>GCF_000006175.1</th>\n",
       "      <td>6.619</td>\n",
       "      <td>0.0</td>\n",
       "    </tr>\n",
       "    <tr>\n",
       "      <th>GCF_000006605.1</th>\n",
       "      <td>8.250</td>\n",
       "      <td>0.0</td>\n",
       "    </tr>\n",
       "    <tr>\n",
       "      <th>GCF_000006625.1</th>\n",
       "      <td>-0.171</td>\n",
       "      <td>0.0</td>\n",
       "    </tr>\n",
       "  </tbody>\n",
       "</table>\n",
       "</div>"
      ],
      "text/plain": [
       "                 nitrogen  N_ROC\n",
       "ID                              \n",
       "GCF_000005825.2    12.432    0.0\n",
       "GCF_000005845.2    14.562    0.0\n",
       "GCF_000006175.1     6.619    0.0\n",
       "GCF_000006605.1     8.250    0.0\n",
       "GCF_000006625.1    -0.171    0.0"
      ]
     },
     "execution_count": 134,
     "metadata": {},
     "output_type": "execute_result"
    }
   ],
   "source": [
    "cap_= mebs.SCNOFe[['nitrogen', 'N_ROC']]\n",
    "cap_.head()"
   ]
  },
  {
   "cell_type": "code",
   "execution_count": 131,
   "metadata": {},
   "outputs": [
    {
     "name": "stderr",
     "output_type": "stream",
     "text": [
      "/usr/local/lib/python3.5/dist-packages/ipykernel_launcher.py:4: DeprecationWarning: \n",
      ".ix is deprecated. Please use\n",
      ".loc for label based indexing or\n",
      ".iloc for positional indexing\n",
      "\n",
      "See the documentation here:\n",
      "http://pandas.pydata.org/pandas-docs/stable/indexing.html#ix-indexer-is-deprecated\n",
      "  after removing the cwd from sys.path.\n"
     ]
    }
   ],
   "source": [
    "caps = cap_['N_ROC'].unique()\n",
    "mydic = {}\n",
    "for f in caps:\n",
    "    values = cap_['nitrogen'][cap_['N_ROC'] == f]\n",
    "    values = values.get_values()\n",
    "    mydic[f] = pd.Series(values)\n",
    "cap_dic = pd.DataFrame(mydic)\n",
    "cap_sort = median_sort(cap_dic)"
   ]
  },
  {
   "cell_type": "code",
   "execution_count": 133,
   "metadata": {},
   "outputs": [
    {
     "data": {
      "image/png": "[encoded data removed]",
      "text/plain": [
       "<matplotlib.figure.Figure at 0x7f19ce7abf28>"
      ]
     },
     "metadata": {},
     "output_type": "display_data"
    }
   ],
   "source": [
    "fig = plt.figure(figsize=(10,6))\n",
    "x = cap_sort.boxplot(rot=360, whis=True )\n",
    "plt.xticks(size='large')\n",
    "plt.yticks(size='large')\n",
    "plt.xlabel('Instances', weight='bold', size='large')\n",
    "plt.ylabel('MEbS (bits)', weight='bold',size = 'large')\n",
    "plt.annotate( 'SS nr(gen)', (4, 16))\n",
    "plt.annotate ('TRUE NEGATIVES (TN)', (2.8, 5), weight ='bold')\n",
    "plt.annotate ('TRUE POSITIVES (TP)', (2.8,33), weight ='bold')\n",
    "#plt.annotate ('95 -perc',(4, 10.5), size ='small' )\n",
    "#plt.axhline('95 -perc',(n_percent))\n",
    "#plt.axhspan(cap_sort.Nili.min(),cap_sort.ND.min(), alpha= 0.05, color ='forestgreen')\n",
    "#plt.axhspan(cap_sort.ND.max(),cap_sort.Nili.max(), alpha= 0.05, color ='darkblue')\n",
    "plt.title ('NITROGEN', size ='xx-large', weight ='bold')\n",
    "plt.tight_layout()\n",
    "#plt.savefig(\"Nitrogen.boxplot.png\", dpi=400)"
   ]
  },
  {
   "cell_type": "code",
   "execution_count": null,
   "metadata": {
    "collapsed": true
   },
   "outputs": [],
   "source": [
    "#IRON\n",
    "fig = plt.figure(figsize=(10,6))\n",
    "x = cap_sort.boxplot(rot=360, whis=True )\n",
    "plt.xticks(size='large')\n",
    "plt.yticks(size='large')\n",
    "plt.xlabel('Instances', weight='bold', size='large')\n",
    "plt.ylabel('MEbS (bits)', weight='bold',size = 'large')\n",
    "plt.annotate( 'SS nr(gen)', (4, 16))\n",
    "plt.annotate ('TRUE NEGATIVES (TN)', (2.8, 0), weight ='bold')\n",
    "plt.annotate ('TRUE POSITIVES (TP)', (2.8,10), weight ='bold')\n",
    "#plt.annotate ('95 -perc',(4, 10.5), size ='small' )\n",
    "#plt.axhline('95 -perc',(n_percent))\n",
    "plt.axhspan(cap_sort.Feli.min(),cap_sort.ND.min(), alpha= 0.05, color ='forestgreen')\n",
    "plt.axhspan(cap_sort.ND.max(),cap_sort.Feli.max(), alpha= 0.05, color ='darkblue')\n",
    "plt.title ('IRON', size ='xx-large', weight ='bold')\n",
    "plt.tight_layout()\n",
    "plt.savefig(\"Iron.boxplot.png\", dpi=400)"
   ]
  }
 ],
 "metadata": {
  "kernelspec": {
   "display_name": "Python 3",
   "language": "python",
   "name": "python3"
  },
  "language_info": {
   "codemirror_mode": {
    "name": "ipython",
    "version": 3
   },
   "file_extension": ".py",
   "mimetype": "text/x-python",
   "name": "python",
   "nbconvert_exporter": "python",
   "pygments_lexer": "ipython3",
   "version": "3.5.2"
  }
 },
 "nbformat": 4,
 "nbformat_minor": 1
}
